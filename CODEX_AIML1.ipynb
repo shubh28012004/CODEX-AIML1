{
  "nbformat": 4,
  "nbformat_minor": 0,
  "metadata": {
    "colab": {
      "provenance": [],
      "authorship_tag": "ABX9TyO9RCRUvpyin3D8WPOCjuRl",
      "include_colab_link": true
    },
    "kernelspec": {
      "name": "python3",
      "display_name": "Python 3"
    },
    "language_info": {
      "name": "python"
    }
  },
  "cells": [
    {
      "cell_type": "markdown",
      "metadata": {
        "id": "view-in-github",
        "colab_type": "text"
      },
      "source": [
        "<a href=\"https://colab.research.google.com/github/shubh28012004/CODEX-AIML1/blob/main/CODEX_AIML1.ipynb\" target=\"_parent\"><img src=\"https://colab.research.google.com/assets/colab-badge.svg\" alt=\"Open In Colab\"/></a>"
      ]
    },
    {
      "cell_type": "markdown",
      "source": [
        "# CODEX-AIML-1"
      ],
      "metadata": {
        "id": "SHeiQ7K0Tekm"
      }
    },
    {
      "cell_type": "markdown",
      "source": [
        "Shubh Agarwal\n"
      ],
      "metadata": {
        "id": "v3fbSOtNTatb"
      }
    },
    {
      "cell_type": "markdown",
      "source": [
        "Check if a given string is a palindrome (using string slicing):"
      ],
      "metadata": {
        "id": "PN9xMwAdS4YL"
      }
    },
    {
      "cell_type": "code",
      "execution_count": 1,
      "metadata": {
        "colab": {
          "base_uri": "https://localhost:8080/"
        },
        "id": "q_uL2rsHSSD7",
        "outputId": "45ec52d8-1935-4f4e-c1d8-8652cb790705"
      },
      "outputs": [
        {
          "output_type": "stream",
          "name": "stdout",
          "text": [
            "True\n",
            "False\n"
          ]
        }
      ],
      "source": [
        "def is_palindrome(s):\n",
        "    s = s.lower()  # Convert the string to lowercase for case-insensitive comparison\n",
        "    s = s.replace(\" \", \"\")  # Remove spaces\n",
        "    return s == s[::-1]\n",
        "\n",
        "# Example usage:\n",
        "string1 = \"racecar\"\n",
        "string2 = \"hello\"\n",
        "print(is_palindrome(string1))  # True\n",
        "print(is_palindrome(string2))  # False\n"
      ]
    },
    {
      "cell_type": "markdown",
      "source": [
        "Create a basic calculator program for +, -, /, * operations (using functions):"
      ],
      "metadata": {
        "id": "pZwb1x4zS-7F"
      }
    },
    {
      "cell_type": "code",
      "source": [
        "def add(x, y):\n",
        "    return x + y\n",
        "\n",
        "def subtract(x, y):\n",
        "    return x - y\n",
        "\n",
        "def multiply(x, y):\n",
        "    return x * y\n",
        "\n",
        "def divide(x, y):\n",
        "    if y == 0:\n",
        "        return \"Division by zero is not allowed\"\n",
        "    return x / y\n",
        "\n",
        "# Example usage:\n",
        "num1 = 10\n",
        "num2 = 5\n",
        "operation = \"+\"\n",
        "\n",
        "if operation == \"+\":\n",
        "    result = add(num1, num2)\n",
        "elif operation == \"-\":\n",
        "    result = subtract(num1, num2)\n",
        "elif operation == \"*\":\n",
        "    result = multiply(num1, num2)\n",
        "elif operation == \"/\":\n",
        "    result = divide(num1, num2)\n",
        "else:\n",
        "    result = \"Invalid operation\"\n",
        "\n",
        "print(\"Result:\", result)\n"
      ],
      "metadata": {
        "colab": {
          "base_uri": "https://localhost:8080/"
        },
        "id": "FFTfc6qHS73p",
        "outputId": "9b01af94-1466-46bd-b41e-6b7ea7331cfc"
      },
      "execution_count": 2,
      "outputs": [
        {
          "output_type": "stream",
          "name": "stdout",
          "text": [
            "Result: 15\n"
          ]
        }
      ]
    },
    {
      "cell_type": "markdown",
      "source": [
        "Print even-indexed characters from a string (using a for loop):"
      ],
      "metadata": {
        "id": "PyFdVClzTHmO"
      }
    },
    {
      "cell_type": "code",
      "source": [
        "def print_even_index_characters(s):\n",
        "    for i in range(0, len(s), 2):\n",
        "        print(s[i], end=' ')\n",
        "\n",
        "# Example usage:\n",
        "text = \"Hello, World!\"\n",
        "print_even_index_characters(text)\n"
      ],
      "metadata": {
        "colab": {
          "base_uri": "https://localhost:8080/"
        },
        "id": "ShMQYHcwTHPi",
        "outputId": "29466c96-61db-42fc-ae6b-f295a58bf4ba"
      },
      "execution_count": 3,
      "outputs": [
        {
          "output_type": "stream",
          "name": "stdout",
          "text": [
            "H l o   o l ! "
          ]
        }
      ]
    },
    {
      "cell_type": "markdown",
      "source": [
        "Find the second-most occurring character in a string (using a dictionary):"
      ],
      "metadata": {
        "id": "5_f_dtOBTW-F"
      }
    },
    {
      "cell_type": "code",
      "source": [
        "def find_second_most_occuring_char(s):\n",
        "    char_count = {}\n",
        "    for char in s:\n",
        "        if char.isalpha():\n",
        "            char_count[char] = char_count.get(char, 0) + 1\n",
        "\n",
        "    char_count = dict(sorted(char_count.items(), key=lambda item: item[1], reverse=True))\n",
        "\n",
        "    if len(char_count) < 2:\n",
        "        return \"There is no second-most occurring character.\"\n",
        "\n",
        "    second_most_char = list(char_count.keys())[1]\n",
        "    return second_most_char\n",
        "\n",
        "# Example usage:\n",
        "text = \"abracadabra\"\n",
        "result = find_second_most_occuring_char(text)\n",
        "print(\"Second-most occurring character:\", result)\n"
      ],
      "metadata": {
        "colab": {
          "base_uri": "https://localhost:8080/"
        },
        "id": "bTatdlGTTDPG",
        "outputId": "7851aaba-66e0-427d-a034-91101c65dd39"
      },
      "execution_count": 4,
      "outputs": [
        {
          "output_type": "stream",
          "name": "stdout",
          "text": [
            "Second-most occurring character: b\n"
          ]
        }
      ]
    }
  ]
}